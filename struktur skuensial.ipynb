{
 "cells": [
  {
   "cell_type": "code",
   "execution_count": 4,
   "metadata": {},
   "outputs": [
    {
     "name": "stdout",
     "output_type": "stream",
     "text": [
      "Ketik Nilai Celcius=8\n",
      "Celcius =  8.0\n",
      "Reamur = 6.4\n",
      "Kelvin = 281.0\n"
     ]
    }
   ],
   "source": [
    "Celcius=float(input(\"Ketik Nilai Celcius=\"))\n",
    "Reamur = 4/5*Celcius\n",
    "Fahrenhit = 9/5*Celcius+32\n",
    "Kelvin = 273+Celcius\n",
    "print (\"Celcius = \",Celcius)\n",
    "print (\"Reamur =\",Reamur)\n",
    "print (\"Kelvin =\",Kelvin)"
   ]
  },
  {
   "cell_type": "code",
   "execution_count": null,
   "metadata": {},
   "outputs": [],
   "source": []
  }
 ],
 "metadata": {
  "kernelspec": {
   "display_name": "Python 3",
   "language": "python",
   "name": "python3"
  },
  "language_info": {
   "codemirror_mode": {
    "name": "ipython",
    "version": 3
   },
   "file_extension": ".py",
   "mimetype": "text/x-python",
   "name": "python",
   "nbconvert_exporter": "python",
   "pygments_lexer": "ipython3",
   "version": "3.7.3"
  }
 },
 "nbformat": 4,
 "nbformat_minor": 2
}
