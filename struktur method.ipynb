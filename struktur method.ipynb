{
 "cells": [
  {
   "cell_type": "code",
   "execution_count": 1,
   "metadata": {},
   "outputs": [
    {
     "name": "stdout",
     "output_type": "stream",
     "text": [
      "a = 3\n",
      "b = 5\n",
      "8\n",
      "-2\n",
      "15\n",
      "9\n"
     ]
    }
   ],
   "source": [
    "a=3; b=5\n",
    "def init():\n",
    "    a=0;b=0\n",
    "def tambah ():\n",
    "    return a+b \n",
    "def kurang ():\n",
    "    return a-b\n",
    "def cetak (n):\n",
    "    print (n)\n",
    "    \n",
    "init ()\n",
    "print (\"a =\",a)\n",
    "print (\"b =\",b)\n",
    "print (tambah ())\n",
    "print (kurang ())\n",
    "cetak (7+tambah())\n",
    "cetak (7-kurang())"
   ]
  },
  {
   "cell_type": "code",
   "execution_count": null,
   "metadata": {},
   "outputs": [],
   "source": []
  }
 ],
 "metadata": {
  "kernelspec": {
   "display_name": "Python 3",
   "language": "python",
   "name": "python3"
  },
  "language_info": {
   "codemirror_mode": {
    "name": "ipython",
    "version": 3
   },
   "file_extension": ".py",
   "mimetype": "text/x-python",
   "name": "python",
   "nbconvert_exporter": "python",
   "pygments_lexer": "ipython3",
   "version": "3.7.3"
  }
 },
 "nbformat": 4,
 "nbformat_minor": 4
}
