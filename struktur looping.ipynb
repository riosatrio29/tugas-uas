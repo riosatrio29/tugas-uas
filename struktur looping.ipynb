{
 "cells": [
  {
   "cell_type": "code",
   "execution_count": 1,
   "metadata": {},
   "outputs": [
    {
     "name": "stdin",
     "output_type": "stream",
     "text": [
      "Banyaknya Suku = 4\n"
     ]
    },
    {
     "name": "stdout",
     "output_type": "stream",
     "text": [
      "for :\n",
      "1  + 2  + 3  + 4 = 10\n",
      "while :\n",
      "1  + 2  + 3  + 4 = 10\n"
     ]
    }
   ],
   "source": [
    "N=int(input(\"Banyaknya Suku =\"))\n",
    "total=0\n",
    "print(\"for :\")\n",
    "for i in range(1,N):\n",
    "    total+=i\n",
    "    print(i,\" + \",end=\"\")\n",
    "total+=N\n",
    "print(N,\"=\",total)\n",
    "\n",
    "print(\"while :\")\n",
    "i=1;total=0\n",
    "while i<N:\n",
    "    total+=i\n",
    "    print(i,\" + \",end=\"\")\n",
    "    i+=1\n",
    "total+=i\n",
    "print(i,\"=\",total)\n"
   ]
  }
 ],
 "metadata": {
  "kernelspec": {
   "display_name": "Python 3",
   "language": "python",
   "name": "python3"
  },
  "language_info": {
   "codemirror_mode": {
    "name": "ipython",
    "version": 3
   },
   "file_extension": ".py",
   "mimetype": "text/x-python",
   "name": "python",
   "nbconvert_exporter": "python",
   "pygments_lexer": "ipython3",
   "version": "3.7.3"
  }
 },
 "nbformat": 4,
 "nbformat_minor": 4
}
